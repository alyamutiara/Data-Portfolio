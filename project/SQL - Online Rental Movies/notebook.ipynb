{
 "cells": [
  {
   "cell_type": "code",
   "execution_count": null,
   "metadata": {},
   "outputs": [],
   "source": [
    "!pip install ipython-sql\n",
    "\n",
    "# The code install the ipython-sql package using the pip package manager.\n",
    "# pip is a tool used to install and manage Python packages. \n",
    "# The ! symbol at the beginning of the line is used in Jupyter notebooks to run shell commands."
   ]
  },
  {
   "cell_type": "code",
   "execution_count": 1,
   "metadata": {},
   "outputs": [],
   "source": [
    "import pandas as pd\n",
    "import sqlite3"
   ]
  },
  {
   "cell_type": "code",
   "execution_count": 2,
   "metadata": {},
   "outputs": [],
   "source": [
    "%load_ext sql\n",
    "\n",
    "# This is a Jupyter notebook magic command that loads an SQL extension.\n",
    "# This allows user to execute SQL queries directly in the Jupyter notebook.\n",
    "# We can connect to any database which is supported by SQLAlchemy, in this project we will use SQLite database."
   ]
  },
  {
   "cell_type": "code",
   "execution_count": 3,
   "metadata": {},
   "outputs": [],
   "source": [
    "%sql sqlite:///MovieNow.db\n",
    "# %sql is the magic command to connect to a SQLite database.\n",
    "# The command sets the connection string to the default SQLite database."
   ]
  },
  {
   "cell_type": "markdown",
   "metadata": {},
   "source": [
    "##### Creating a database"
   ]
  },
  {
   "cell_type": "code",
   "execution_count": null,
   "metadata": {},
   "outputs": [],
   "source": [
    "# Create blank tables inside SQLite database\n",
    "%sql --file ./MovieNow-sqlite.sql"
   ]
  },
  {
   "cell_type": "code",
   "execution_count": 4,
   "metadata": {},
   "outputs": [],
   "source": [
    "# Load Actors CSV file into a DataFrame\n",
    "actors = 'actors.csv'\n",
    "actsin = 'actsin.csv'\n",
    "customers = 'customers.csv'\n",
    "movies = 'movies.csv'\n",
    "renting = 'renting.csv'\n",
    "\n",
    "df_at = pd.read_csv(actors)\n",
    "df_as = pd.read_csv(actsin)\n",
    "df_c = pd.read_csv(customers)\n",
    "df_m = pd.read_csv(movies)\n",
    "df_r = pd.read_csv(renting)\n",
    "\n",
    "# Connect to SQLite database\n",
    "conn = sqlite3.connect('MovieNow.db')\n",
    "\n",
    "# Write DataFrame to SQLite table\n",
    "df_at.to_sql('actors', conn, index=False, if_exists='replace')\n",
    "df_as.to_sql('actsin', conn, index=False, if_exists='replace')\n",
    "df_c.to_sql('customers', conn, index=False, if_exists='replace')\n",
    "df_m.to_sql('movies', conn, index=False, if_exists='replace')\n",
    "df_r.to_sql('renting', conn, index=False, if_exists='replace')\n",
    "\n",
    "# Close the connection\n",
    "conn.close()"
   ]
  },
  {
   "cell_type": "markdown",
   "metadata": {},
   "source": [
    "##### Showing the tables"
   ]
  },
  {
   "cell_type": "code",
   "execution_count": 5,
   "metadata": {},
   "outputs": [
    {
     "name": "stdout",
     "output_type": "stream",
     "text": [
      " * sqlite:///MovieNow.db\n",
      "Done.\n"
     ]
    },
    {
     "data": {
      "text/html": [
       "<table>\n",
       "    <thead>\n",
       "        <tr>\n",
       "            <th>actor_id</th>\n",
       "            <th>name</th>\n",
       "            <th>year_of_birth</th>\n",
       "            <th>nationality</th>\n",
       "            <th>gender</th>\n",
       "        </tr>\n",
       "    </thead>\n",
       "    <tbody>\n",
       "        <tr>\n",
       "            <td>1</td>\n",
       "            <td>Abbie Cornish</td>\n",
       "            <td>1982.0</td>\n",
       "            <td>Australia</td>\n",
       "            <td>female</td>\n",
       "        </tr>\n",
       "        <tr>\n",
       "            <td>2</td>\n",
       "            <td>Adam Sandler</td>\n",
       "            <td>1966.0</td>\n",
       "            <td>USA</td>\n",
       "            <td>male</td>\n",
       "        </tr>\n",
       "        <tr>\n",
       "            <td>3</td>\n",
       "            <td>Al Pacino</td>\n",
       "            <td>1940.0</td>\n",
       "            <td>USA</td>\n",
       "            <td>male</td>\n",
       "        </tr>\n",
       "        <tr>\n",
       "            <td>4</td>\n",
       "            <td>Amy Adams</td>\n",
       "            <td>1974.0</td>\n",
       "            <td>USA</td>\n",
       "            <td>female</td>\n",
       "        </tr>\n",
       "        <tr>\n",
       "            <td>5</td>\n",
       "            <td>Andrea Riseborough</td>\n",
       "            <td>1981.0</td>\n",
       "            <td>British</td>\n",
       "            <td>female</td>\n",
       "        </tr>\n",
       "    </tbody>\n",
       "</table>"
      ],
      "text/plain": [
       "[(1, 'Abbie Cornish', 1982.0, 'Australia', 'female'),\n",
       " (2, 'Adam Sandler', 1966.0, 'USA', 'male'),\n",
       " (3, 'Al Pacino', 1940.0, 'USA', 'male'),\n",
       " (4, 'Amy Adams', 1974.0, 'USA', 'female'),\n",
       " (5, 'Andrea Riseborough', 1981.0, 'British', 'female')]"
      ]
     },
     "execution_count": 5,
     "metadata": {},
     "output_type": "execute_result"
    }
   ],
   "source": [
    "%%sql\n",
    "SELECT *\n",
    "FROM actors\n",
    "LIMIT 5;"
   ]
  },
  {
   "cell_type": "code",
   "execution_count": 7,
   "metadata": {},
   "outputs": [
    {
     "name": "stdout",
     "output_type": "stream",
     "text": [
      " * sqlite:///MovieNow.db\n",
      "Done.\n"
     ]
    },
    {
     "data": {
      "text/html": [
       "<table>\n",
       "    <thead>\n",
       "        <tr>\n",
       "            <th>actsin_id</th>\n",
       "            <th>movie_id</th>\n",
       "            <th>actor_id</th>\n",
       "        </tr>\n",
       "    </thead>\n",
       "    <tbody>\n",
       "        <tr>\n",
       "            <td>1</td>\n",
       "            <td>37</td>\n",
       "            <td>1</td>\n",
       "        </tr>\n",
       "        <tr>\n",
       "            <td>2</td>\n",
       "            <td>56</td>\n",
       "            <td>2</td>\n",
       "        </tr>\n",
       "        <tr>\n",
       "            <td>3</td>\n",
       "            <td>10</td>\n",
       "            <td>3</td>\n",
       "        </tr>\n",
       "        <tr>\n",
       "            <td>4</td>\n",
       "            <td>14</td>\n",
       "            <td>3</td>\n",
       "        </tr>\n",
       "        <tr>\n",
       "            <td>5</td>\n",
       "            <td>29</td>\n",
       "            <td>3</td>\n",
       "        </tr>\n",
       "    </tbody>\n",
       "</table>"
      ],
      "text/plain": [
       "[(1, 37, 1), (2, 56, 2), (3, 10, 3), (4, 14, 3), (5, 29, 3)]"
      ]
     },
     "execution_count": 7,
     "metadata": {},
     "output_type": "execute_result"
    }
   ],
   "source": [
    "%%sql\n",
    "SELECT *\n",
    "FROM actsin\n",
    "LIMIT 5;"
   ]
  },
  {
   "cell_type": "code",
   "execution_count": 10,
   "metadata": {},
   "outputs": [
    {
     "name": "stdout",
     "output_type": "stream",
     "text": [
      " * sqlite:///MovieNow.db\n",
      "Done.\n"
     ]
    },
    {
     "data": {
      "text/html": [
       "<table>\n",
       "    <thead>\n",
       "        <tr>\n",
       "            <th>id</th>\n",
       "            <th>name</th>\n",
       "            <th>nationality</th>\n",
       "            <th>gender</th>\n",
       "            <th>dob</th>\n",
       "            <th>membersince</th>\n",
       "        </tr>\n",
       "    </thead>\n",
       "    <tbody>\n",
       "        <tr>\n",
       "            <td>1</td>\n",
       "            <td>Robert Bohm</td>\n",
       "            <td>Austria</td>\n",
       "            <td>male</td>\n",
       "            <td>1980-07-30</td>\n",
       "            <td>2018-09-02</td>\n",
       "        </tr>\n",
       "        <tr>\n",
       "            <td>2</td>\n",
       "            <td>Wolfgang Ackermann</td>\n",
       "            <td>Austria</td>\n",
       "            <td>male</td>\n",
       "            <td>1971-11-17</td>\n",
       "            <td>2018-10-15</td>\n",
       "        </tr>\n",
       "        <tr>\n",
       "            <td>3</td>\n",
       "            <td>Daniela Herzog</td>\n",
       "            <td>Austria</td>\n",
       "            <td>female</td>\n",
       "            <td>1974-08-07</td>\n",
       "            <td>2019-02-14</td>\n",
       "        </tr>\n",
       "        <tr>\n",
       "            <td>4</td>\n",
       "            <td>Julia Jung</td>\n",
       "            <td>Austria</td>\n",
       "            <td>female</td>\n",
       "            <td>1991-01-04</td>\n",
       "            <td>2017-11-22</td>\n",
       "        </tr>\n",
       "        <tr>\n",
       "            <td>5</td>\n",
       "            <td>Juliane Kirsch</td>\n",
       "            <td>Austria</td>\n",
       "            <td>female</td>\n",
       "            <td>1977-03-01</td>\n",
       "            <td>2018-12-16</td>\n",
       "        </tr>\n",
       "    </tbody>\n",
       "</table>"
      ],
      "text/plain": [
       "[(1, 'Robert Bohm', 'Austria', 'male', '1980-07-30', '2018-09-02'),\n",
       " (2, 'Wolfgang Ackermann', 'Austria', 'male', '1971-11-17', '2018-10-15'),\n",
       " (3, 'Daniela Herzog', 'Austria', 'female', '1974-08-07', '2019-02-14'),\n",
       " (4, 'Julia Jung', 'Austria', 'female', '1991-01-04', '2017-11-22'),\n",
       " (5, 'Juliane Kirsch', 'Austria', 'female', '1977-03-01', '2018-12-16')]"
      ]
     },
     "execution_count": 10,
     "metadata": {},
     "output_type": "execute_result"
    }
   ],
   "source": [
    "%%sql\n",
    "SELECT *\n",
    "FROM customers\n",
    "LIMIT 5;"
   ]
  },
  {
   "cell_type": "code",
   "execution_count": 11,
   "metadata": {},
   "outputs": [
    {
     "name": "stdout",
     "output_type": "stream",
     "text": [
      " * sqlite:///MovieNow.db\n",
      "Done.\n"
     ]
    },
    {
     "data": {
      "text/html": [
       "<table>\n",
       "    <thead>\n",
       "        <tr>\n",
       "            <th>movie_id</th>\n",
       "            <th>title</th>\n",
       "            <th>genre</th>\n",
       "            <th>runtime</th>\n",
       "            <th>year_of_releas</th>\n",
       "            <th>renting_price</th>\n",
       "        </tr>\n",
       "    </thead>\n",
       "    <tbody>\n",
       "        <tr>\n",
       "            <td>1</td>\n",
       "            <td>One Night at McCool&#x27;s</td>\n",
       "            <td>Comedy</td>\n",
       "            <td>93</td>\n",
       "            <td>2001</td>\n",
       "            <td>2.09</td>\n",
       "        </tr>\n",
       "        <tr>\n",
       "            <td>2</td>\n",
       "            <td>Swordfish</td>\n",
       "            <td>Drama</td>\n",
       "            <td>99</td>\n",
       "            <td>2001</td>\n",
       "            <td>2.19</td>\n",
       "        </tr>\n",
       "        <tr>\n",
       "            <td>3</td>\n",
       "            <td>What Women Want</td>\n",
       "            <td>Comedy</td>\n",
       "            <td>127</td>\n",
       "            <td>2001</td>\n",
       "            <td>2.59</td>\n",
       "        </tr>\n",
       "        <tr>\n",
       "            <td>4</td>\n",
       "            <td>Training Day</td>\n",
       "            <td>Drama</td>\n",
       "            <td>122</td>\n",
       "            <td>2001</td>\n",
       "            <td>1.79</td>\n",
       "        </tr>\n",
       "        <tr>\n",
       "            <td>5</td>\n",
       "            <td>The Fellowship of the Ring</td>\n",
       "            <td>Science Fiction &amp; Fantasy</td>\n",
       "            <td>178</td>\n",
       "            <td>2001</td>\n",
       "            <td>2.59</td>\n",
       "        </tr>\n",
       "    </tbody>\n",
       "</table>"
      ],
      "text/plain": [
       "[(1, \"One Night at McCool's\", 'Comedy', 93, 2001, 2.09),\n",
       " (2, 'Swordfish', 'Drama', 99, 2001, 2.19),\n",
       " (3, 'What Women Want', 'Comedy', 127, 2001, 2.59),\n",
       " (4, 'Training Day', 'Drama', 122, 2001, 1.79),\n",
       " (5, 'The Fellowship of the Ring', 'Science Fiction & Fantasy', 178, 2001, 2.59)]"
      ]
     },
     "execution_count": 11,
     "metadata": {},
     "output_type": "execute_result"
    }
   ],
   "source": [
    "%%sql\n",
    "SELECT *\n",
    "FROM movies\n",
    "LIMIT 5;"
   ]
  },
  {
   "cell_type": "code",
   "execution_count": 12,
   "metadata": {},
   "outputs": [
    {
     "name": "stdout",
     "output_type": "stream",
     "text": [
      " * sqlite:///MovieNow.db\n",
      "Done.\n"
     ]
    },
    {
     "data": {
      "text/html": [
       "<table>\n",
       "    <thead>\n",
       "        <tr>\n",
       "            <th>renting_id</th>\n",
       "            <th>customer_id</th>\n",
       "            <th>movie_id</th>\n",
       "            <th>rating</th>\n",
       "            <th>date_renting</th>\n",
       "        </tr>\n",
       "    </thead>\n",
       "    <tbody>\n",
       "        <tr>\n",
       "            <td>1</td>\n",
       "            <td>41</td>\n",
       "            <td>8</td>\n",
       "            <td>None</td>\n",
       "            <td>2018-10-09</td>\n",
       "        </tr>\n",
       "        <tr>\n",
       "            <td>2</td>\n",
       "            <td>10</td>\n",
       "            <td>29</td>\n",
       "            <td>10.0</td>\n",
       "            <td>2017-03-01</td>\n",
       "        </tr>\n",
       "        <tr>\n",
       "            <td>3</td>\n",
       "            <td>108</td>\n",
       "            <td>45</td>\n",
       "            <td>4.0</td>\n",
       "            <td>2018-06-08</td>\n",
       "        </tr>\n",
       "        <tr>\n",
       "            <td>4</td>\n",
       "            <td>39</td>\n",
       "            <td>66</td>\n",
       "            <td>8.0</td>\n",
       "            <td>2018-10-22</td>\n",
       "        </tr>\n",
       "        <tr>\n",
       "            <td>5</td>\n",
       "            <td>104</td>\n",
       "            <td>15</td>\n",
       "            <td>7.0</td>\n",
       "            <td>2019-03-18</td>\n",
       "        </tr>\n",
       "    </tbody>\n",
       "</table>"
      ],
      "text/plain": [
       "[(1, 41, 8, None, '2018-10-09'),\n",
       " (2, 10, 29, 10.0, '2017-03-01'),\n",
       " (3, 108, 45, 4.0, '2018-06-08'),\n",
       " (4, 39, 66, 8.0, '2018-10-22'),\n",
       " (5, 104, 15, 7.0, '2019-03-18')]"
      ]
     },
     "execution_count": 12,
     "metadata": {},
     "output_type": "execute_result"
    }
   ],
   "source": [
    "%%sql\n",
    "SELECT *\n",
    "FROM renting\n",
    "LIMIT 5;"
   ]
  },
  {
   "cell_type": "markdown",
   "metadata": {},
   "source": [
    "### Basic Information"
   ]
  },
  {
   "cell_type": "markdown",
   "metadata": {},
   "source": [
    "#### What its the total number of the members?"
   ]
  },
  {
   "cell_type": "code",
   "execution_count": 20,
   "metadata": {},
   "outputs": [
    {
     "name": "stdout",
     "output_type": "stream",
     "text": [
      " * sqlite:///MovieNow.db\n",
      "Done.\n"
     ]
    },
    {
     "data": {
      "text/html": [
       "<table>\n",
       "    <thead>\n",
       "        <tr>\n",
       "            <th>number_of_members</th>\n",
       "        </tr>\n",
       "    </thead>\n",
       "    <tbody>\n",
       "        <tr>\n",
       "            <td>123</td>\n",
       "        </tr>\n",
       "    </tbody>\n",
       "</table>"
      ],
      "text/plain": [
       "[(123,)]"
      ]
     },
     "execution_count": 20,
     "metadata": {},
     "output_type": "execute_result"
    }
   ],
   "source": [
    "%%sql\n",
    "SELECT COUNT(DISTINCT name) AS number_of_members\n",
    "FROM customers;"
   ]
  },
  {
   "cell_type": "markdown",
   "metadata": {},
   "source": [
    "#### What is the total number of the movies?"
   ]
  },
  {
   "cell_type": "code",
   "execution_count": 38,
   "metadata": {},
   "outputs": [
    {
     "name": "stdout",
     "output_type": "stream",
     "text": [
      " * sqlite:///MovieNow.db\n",
      "Done.\n"
     ]
    },
    {
     "data": {
      "text/html": [
       "<table>\n",
       "    <thead>\n",
       "        <tr>\n",
       "            <th>number_of_movies</th>\n",
       "        </tr>\n",
       "    </thead>\n",
       "    <tbody>\n",
       "        <tr>\n",
       "            <td>71</td>\n",
       "        </tr>\n",
       "    </tbody>\n",
       "</table>"
      ],
      "text/plain": [
       "[(71,)]"
      ]
     },
     "execution_count": 38,
     "metadata": {},
     "output_type": "execute_result"
    }
   ],
   "source": [
    "%%sql\n",
    "SELECT COUNT(DISTINCT title) AS number_of_movies\n",
    "FROM movies;"
   ]
  },
  {
   "cell_type": "markdown",
   "metadata": {},
   "source": [
    "#### What is the income per year?"
   ]
  },
  {
   "cell_type": "code",
   "execution_count": 15,
   "metadata": {},
   "outputs": [
    {
     "name": "stdout",
     "output_type": "stream",
     "text": [
      " * sqlite:///MovieNow.db\n",
      "Done.\n"
     ]
    },
    {
     "data": {
      "text/html": [
       "<table>\n",
       "    <thead>\n",
       "        <tr>\n",
       "            <th>year</th>\n",
       "            <th>yearly_income</th>\n",
       "        </tr>\n",
       "    </thead>\n",
       "    <tbody>\n",
       "        <tr>\n",
       "            <td>2019</td>\n",
       "            <td>354.51</td>\n",
       "        </tr>\n",
       "        <tr>\n",
       "            <td>2018</td>\n",
       "            <td>658.02</td>\n",
       "        </tr>\n",
       "        <tr>\n",
       "            <td>2017</td>\n",
       "            <td>263.19</td>\n",
       "        </tr>\n",
       "    </tbody>\n",
       "</table>"
      ],
      "text/plain": [
       "[('2019', 354.51), ('2018', 658.02), ('2017', 263.19)]"
      ]
     },
     "execution_count": 15,
     "metadata": {},
     "output_type": "execute_result"
    }
   ],
   "source": [
    "%%sql\n",
    "SELECT strftime('%Y', date_renting) AS year,\n",
    "       ROUND(SUM(renting_price),2) AS yearly_income\n",
    "FROM renting AS r\n",
    "LEFT JOIN movies AS m\n",
    "ON r.movie_id = m.movie_id\n",
    "GROUP BY strftime('%Y', date_renting)\n",
    "ORDER BY year DESC;"
   ]
  },
  {
   "cell_type": "code",
   "execution_count": 16,
   "metadata": {},
   "outputs": [
    {
     "name": "stdout",
     "output_type": "stream",
     "text": [
      " * sqlite:///MovieNow.db\n",
      "Done.\n"
     ]
    },
    {
     "data": {
      "text/html": [
       "<table>\n",
       "    <thead>\n",
       "        <tr>\n",
       "            <th>MAX(date_renting)</th>\n",
       "        </tr>\n",
       "    </thead>\n",
       "    <tbody>\n",
       "        <tr>\n",
       "            <td>2019-05-01</td>\n",
       "        </tr>\n",
       "    </tbody>\n",
       "</table>"
      ],
      "text/plain": [
       "[('2019-05-01',)]"
      ]
     },
     "execution_count": 16,
     "metadata": {},
     "output_type": "execute_result"
    }
   ],
   "source": [
    "%%sql\n",
    "SELECT MAX(date_renting)\n",
    "FROM renting;"
   ]
  },
  {
   "cell_type": "code",
   "execution_count": 21,
   "metadata": {},
   "outputs": [
    {
     "name": "stdout",
     "output_type": "stream",
     "text": [
      " * sqlite:///MovieNow.db\n",
      "Done.\n"
     ]
    },
    {
     "data": {
      "text/html": [
       "<table>\n",
       "    <thead>\n",
       "        <tr>\n",
       "            <th>year</th>\n",
       "            <th>quarter</th>\n",
       "            <th>quarterly_income</th>\n",
       "        </tr>\n",
       "    </thead>\n",
       "    <tbody>\n",
       "        <tr>\n",
       "            <td>2019</td>\n",
       "            <td>Q2</td>\n",
       "            <td>91.18</td>\n",
       "        </tr>\n",
       "        <tr>\n",
       "            <td>2019</td>\n",
       "            <td>Q1</td>\n",
       "            <td>263.33</td>\n",
       "        </tr>\n",
       "        <tr>\n",
       "            <td>2018</td>\n",
       "            <td>Q4</td>\n",
       "            <td>203.47</td>\n",
       "        </tr>\n",
       "        <tr>\n",
       "            <td>2018</td>\n",
       "            <td>Q3</td>\n",
       "            <td>180.39</td>\n",
       "        </tr>\n",
       "        <tr>\n",
       "            <td>2018</td>\n",
       "            <td>Q2</td>\n",
       "            <td>186.95</td>\n",
       "        </tr>\n",
       "        <tr>\n",
       "            <td>2018</td>\n",
       "            <td>Q1</td>\n",
       "            <td>87.21</td>\n",
       "        </tr>\n",
       "        <tr>\n",
       "            <td>2017</td>\n",
       "            <td>Q4</td>\n",
       "            <td>100.95</td>\n",
       "        </tr>\n",
       "        <tr>\n",
       "            <td>2017</td>\n",
       "            <td>Q3</td>\n",
       "            <td>90.67</td>\n",
       "        </tr>\n",
       "        <tr>\n",
       "            <td>2017</td>\n",
       "            <td>Q2</td>\n",
       "            <td>50.67</td>\n",
       "        </tr>\n",
       "        <tr>\n",
       "            <td>2017</td>\n",
       "            <td>Q1</td>\n",
       "            <td>20.9</td>\n",
       "        </tr>\n",
       "    </tbody>\n",
       "</table>"
      ],
      "text/plain": [
       "[('2019', 'Q2', 91.18),\n",
       " ('2019', 'Q1', 263.33),\n",
       " ('2018', 'Q4', 203.47),\n",
       " ('2018', 'Q3', 180.39),\n",
       " ('2018', 'Q2', 186.95),\n",
       " ('2018', 'Q1', 87.21),\n",
       " ('2017', 'Q4', 100.95),\n",
       " ('2017', 'Q3', 90.67),\n",
       " ('2017', 'Q2', 50.67),\n",
       " ('2017', 'Q1', 20.9)]"
      ]
     },
     "execution_count": 21,
     "metadata": {},
     "output_type": "execute_result"
    }
   ],
   "source": [
    "%%sql\n",
    "WITH quarter_categories AS (\n",
    "    SELECT\n",
    "        CASE\n",
    "            WHEN strftime('%m', date_renting) BETWEEN '01' AND '03' THEN 'Q1'\n",
    "            WHEN strftime('%m', date_renting) BETWEEN '04' AND '06' THEN 'Q2'\n",
    "            WHEN strftime('%m', date_renting) BETWEEN '07' AND '09' THEN 'Q3'\n",
    "            WHEN strftime('%m', date_renting) BETWEEN '10' AND '12' THEN 'Q4'\n",
    "            ELSE 'Unknown'\n",
    "        END AS quarter,\n",
    "        renting_id\n",
    "    FROM renting\n",
    ")\n",
    "\n",
    "SELECT \n",
    "    strftime('%Y', date_renting) AS year, \n",
    "    quarter,\n",
    "    ROUND(SUM(renting_price),2) AS quarterly_income\n",
    "FROM renting AS r\n",
    "LEFT JOIN quarter_categories AS qc\n",
    "ON r.renting_id = qc.renting_id\n",
    "LEFT JOIN movies AS m\n",
    "ON r.movie_id = m.movie_id\n",
    "GROUP BY year, quarter\n",
    "ORDER BY year DESC, quarter DESC;"
   ]
  },
  {
   "cell_type": "markdown",
   "metadata": {},
   "source": [
    "Movie rent per year and quarter:"
   ]
  },
  {
   "cell_type": "code",
   "execution_count": 16,
   "metadata": {},
   "outputs": [
    {
     "name": "stdout",
     "output_type": "stream",
     "text": [
      " * sqlite:///MovieNow.db\n",
      "Done.\n"
     ]
    },
    {
     "data": {
      "text/html": [
       "<table>\n",
       "    <thead>\n",
       "        <tr>\n",
       "            <th>year</th>\n",
       "            <th>n_renting</th>\n",
       "        </tr>\n",
       "    </thead>\n",
       "    <tbody>\n",
       "        <tr>\n",
       "            <td>2017</td>\n",
       "            <td>121</td>\n",
       "        </tr>\n",
       "        <tr>\n",
       "            <td>2018</td>\n",
       "            <td>298</td>\n",
       "        </tr>\n",
       "        <tr>\n",
       "            <td>2019</td>\n",
       "            <td>159</td>\n",
       "        </tr>\n",
       "    </tbody>\n",
       "</table>"
      ],
      "text/plain": [
       "[('2017', 121), ('2018', 298), ('2019', 159)]"
      ]
     },
     "execution_count": 16,
     "metadata": {},
     "output_type": "execute_result"
    }
   ],
   "source": [
    "%%sql\n",
    "SELECT strftime('%Y', date_renting) AS year,\n",
    "       COUNT(renting_id) AS n_renting\n",
    "FROM renting\n",
    "GROUP BY strftime('%Y', date_renting);"
   ]
  },
  {
   "cell_type": "code",
   "execution_count": 23,
   "metadata": {},
   "outputs": [
    {
     "name": "stdout",
     "output_type": "stream",
     "text": [
      " * sqlite:///MovieNow.db\n",
      "Done.\n"
     ]
    },
    {
     "data": {
      "text/html": [
       "<table>\n",
       "    <thead>\n",
       "        <tr>\n",
       "            <th>year</th>\n",
       "            <th>quarter</th>\n",
       "            <th>n_renting</th>\n",
       "        </tr>\n",
       "    </thead>\n",
       "    <tbody>\n",
       "        <tr>\n",
       "            <td>2019</td>\n",
       "            <td>Q2</td>\n",
       "            <td>42</td>\n",
       "        </tr>\n",
       "        <tr>\n",
       "            <td>2019</td>\n",
       "            <td>Q1</td>\n",
       "            <td>117</td>\n",
       "        </tr>\n",
       "        <tr>\n",
       "            <td>2018</td>\n",
       "            <td>Q4</td>\n",
       "            <td>93</td>\n",
       "        </tr>\n",
       "        <tr>\n",
       "            <td>2018</td>\n",
       "            <td>Q3</td>\n",
       "            <td>81</td>\n",
       "        </tr>\n",
       "        <tr>\n",
       "            <td>2018</td>\n",
       "            <td>Q2</td>\n",
       "            <td>85</td>\n",
       "        </tr>\n",
       "        <tr>\n",
       "            <td>2018</td>\n",
       "            <td>Q1</td>\n",
       "            <td>39</td>\n",
       "        </tr>\n",
       "        <tr>\n",
       "            <td>2017</td>\n",
       "            <td>Q4</td>\n",
       "            <td>45</td>\n",
       "        </tr>\n",
       "        <tr>\n",
       "            <td>2017</td>\n",
       "            <td>Q3</td>\n",
       "            <td>43</td>\n",
       "        </tr>\n",
       "        <tr>\n",
       "            <td>2017</td>\n",
       "            <td>Q2</td>\n",
       "            <td>23</td>\n",
       "        </tr>\n",
       "        <tr>\n",
       "            <td>2017</td>\n",
       "            <td>Q1</td>\n",
       "            <td>10</td>\n",
       "        </tr>\n",
       "    </tbody>\n",
       "</table>"
      ],
      "text/plain": [
       "[('2019', 'Q2', 42),\n",
       " ('2019', 'Q1', 117),\n",
       " ('2018', 'Q4', 93),\n",
       " ('2018', 'Q3', 81),\n",
       " ('2018', 'Q2', 85),\n",
       " ('2018', 'Q1', 39),\n",
       " ('2017', 'Q4', 45),\n",
       " ('2017', 'Q3', 43),\n",
       " ('2017', 'Q2', 23),\n",
       " ('2017', 'Q1', 10)]"
      ]
     },
     "execution_count": 23,
     "metadata": {},
     "output_type": "execute_result"
    }
   ],
   "source": [
    "%%sql\n",
    "WITH quarter_categories AS (\n",
    "    SELECT\n",
    "        CASE\n",
    "            WHEN strftime('%m', date_renting) BETWEEN '01' AND '03' THEN 'Q1'\n",
    "            WHEN strftime('%m', date_renting) BETWEEN '04' AND '06' THEN 'Q2'\n",
    "            WHEN strftime('%m', date_renting) BETWEEN '07' AND '09' THEN 'Q3'\n",
    "            WHEN strftime('%m', date_renting) BETWEEN '10' AND '12' THEN 'Q4'\n",
    "            ELSE 'Unknown'\n",
    "        END AS quarter,\n",
    "        strftime('%Y', date_renting) AS year,\n",
    "        renting_id\n",
    "    FROM renting\n",
    ")\n",
    "\n",
    "SELECT year, quarter, COUNT(renting_id) AS n_renting\n",
    "FROM quarter_categories\n",
    "GROUP BY year, quarter\n",
    "ORDER BY year DESC, quarter DESC;"
   ]
  },
  {
   "cell_type": "markdown",
   "metadata": {},
   "source": [
    "Highly rented movie in 2018:"
   ]
  },
  {
   "cell_type": "code",
   "execution_count": 5,
   "metadata": {},
   "outputs": [
    {
     "name": "stdout",
     "output_type": "stream",
     "text": [
      " * sqlite:///MovieNow.db\n",
      "Done.\n"
     ]
    },
    {
     "data": {
      "text/html": [
       "<table>\n",
       "    <thead>\n",
       "        <tr>\n",
       "            <th>title</th>\n",
       "            <th>n_renting</th>\n",
       "        </tr>\n",
       "    </thead>\n",
       "    <tbody>\n",
       "        <tr>\n",
       "            <td>World Trade Center</td>\n",
       "            <td>7</td>\n",
       "        </tr>\n",
       "        <tr>\n",
       "            <td>Young Adult</td>\n",
       "            <td>5</td>\n",
       "        </tr>\n",
       "        <tr>\n",
       "            <td>Fair Game</td>\n",
       "            <td>5</td>\n",
       "        </tr>\n",
       "        <tr>\n",
       "            <td>Harry Potter and the Half-Blood Prince</td>\n",
       "            <td>5</td>\n",
       "        </tr>\n",
       "        <tr>\n",
       "            <td>No Country for Old Men</td>\n",
       "            <td>5</td>\n",
       "        </tr>\n",
       "        <tr>\n",
       "            <td>Django Unchained</td>\n",
       "            <td>4</td>\n",
       "        </tr>\n",
       "        <tr>\n",
       "            <td>The Fighter</td>\n",
       "            <td>4</td>\n",
       "        </tr>\n",
       "        <tr>\n",
       "            <td>Morning Glory</td>\n",
       "            <td>4</td>\n",
       "        </tr>\n",
       "        <tr>\n",
       "            <td>The Kingdom</td>\n",
       "            <td>4</td>\n",
       "        </tr>\n",
       "        <tr>\n",
       "            <td>Capote</td>\n",
       "            <td>4</td>\n",
       "        </tr>\n",
       "    </tbody>\n",
       "</table>"
      ],
      "text/plain": [
       "[('World Trade Center', 7),\n",
       " ('Young Adult', 5),\n",
       " ('Fair Game', 5),\n",
       " ('Harry Potter and the Half-Blood Prince', 5),\n",
       " ('No Country for Old Men', 5),\n",
       " ('Django Unchained', 4),\n",
       " ('The Fighter', 4),\n",
       " ('Morning Glory', 4),\n",
       " ('The Kingdom', 4),\n",
       " ('Capote', 4)]"
      ]
     },
     "execution_count": 5,
     "metadata": {},
     "output_type": "execute_result"
    }
   ],
   "source": [
    "%%sql\n",
    "SELECT title, COUNT(renting_id) AS n_renting\n",
    "FROM renting AS r\n",
    "LEFT JOIN movies AS m\n",
    "ON r.movie_id = m.movie_id\n",
    "WHERE date_renting BETWEEN '201-01-01' AND '2019-12-31'\n",
    "GROUP BY r.movie_id\n",
    "ORDER BY n_renting DESC\n",
    "LIMIT 10;"
   ]
  },
  {
   "cell_type": "markdown",
   "metadata": {},
   "source": [
    "### Movie details"
   ]
  },
  {
   "cell_type": "markdown",
   "metadata": {},
   "source": [
    "#### What are the top 5 rented movies?"
   ]
  },
  {
   "cell_type": "code",
   "execution_count": 5,
   "metadata": {},
   "outputs": [
    {
     "name": "stdout",
     "output_type": "stream",
     "text": [
      " * sqlite:///MovieNow.db\n",
      "Done.\n"
     ]
    },
    {
     "data": {
      "text/html": [
       "<table>\n",
       "    <thead>\n",
       "        <tr>\n",
       "            <th>title</th>\n",
       "            <th>n_rented</th>\n",
       "            <th>n_rating</th>\n",
       "        </tr>\n",
       "    </thead>\n",
       "    <tbody>\n",
       "        <tr>\n",
       "            <td>The Kingdom</td>\n",
       "            <td>15</td>\n",
       "            <td>10</td>\n",
       "        </tr>\n",
       "        <tr>\n",
       "            <td>Training Day</td>\n",
       "            <td>14</td>\n",
       "            <td>9</td>\n",
       "        </tr>\n",
       "        <tr>\n",
       "            <td>Harry Potter and the Half-Blood Prince</td>\n",
       "            <td>13</td>\n",
       "            <td>11</td>\n",
       "        </tr>\n",
       "        <tr>\n",
       "            <td>World Trade Center</td>\n",
       "            <td>13</td>\n",
       "            <td>8</td>\n",
       "        </tr>\n",
       "        <tr>\n",
       "            <td>Monster</td>\n",
       "            <td>13</td>\n",
       "            <td>7</td>\n",
       "        </tr>\n",
       "    </tbody>\n",
       "</table>"
      ],
      "text/plain": [
       "[('The Kingdom', 15, 10),\n",
       " ('Training Day', 14, 9),\n",
       " ('Harry Potter and the Half-Blood Prince', 13, 11),\n",
       " ('World Trade Center', 13, 8),\n",
       " ('Monster', 13, 7)]"
      ]
     },
     "execution_count": 5,
     "metadata": {},
     "output_type": "execute_result"
    }
   ],
   "source": [
    "%%sql\n",
    "SELECT title, COUNT(renting_id) AS n_rented, COUNT(rating) AS n_rating\n",
    "FROM renting\n",
    "LEFT JOIN movies\n",
    "ON renting.movie_id = movies.movie_id\n",
    "GROUP BY renting.movie_id\n",
    "ORDER BY n_rented DESC\n",
    "LIMIT 5;"
   ]
  },
  {
   "cell_type": "code",
   "execution_count": 16,
   "metadata": {},
   "outputs": [
    {
     "name": "stdout",
     "output_type": "stream",
     "text": [
      " * sqlite:///MovieNow.db\n",
      "Done.\n"
     ]
    },
    {
     "data": {
      "text/html": [
       "<table>\n",
       "    <thead>\n",
       "        <tr>\n",
       "            <th>title</th>\n",
       "            <th>n_rated</th>\n",
       "        </tr>\n",
       "    </thead>\n",
       "    <tbody>\n",
       "        <tr>\n",
       "            <td>Harry Potter and the Half-Blood Prince</td>\n",
       "            <td>11</td>\n",
       "        </tr>\n",
       "        <tr>\n",
       "            <td>The Kingdom</td>\n",
       "            <td>10</td>\n",
       "        </tr>\n",
       "        <tr>\n",
       "            <td>Training Day</td>\n",
       "            <td>9</td>\n",
       "        </tr>\n",
       "        <tr>\n",
       "            <td>Winter&#x27;s Bone</td>\n",
       "            <td>8</td>\n",
       "        </tr>\n",
       "        <tr>\n",
       "            <td>World Trade Center</td>\n",
       "            <td>8</td>\n",
       "        </tr>\n",
       "    </tbody>\n",
       "</table>"
      ],
      "text/plain": [
       "[('Harry Potter and the Half-Blood Prince', 11),\n",
       " ('The Kingdom', 10),\n",
       " ('Training Day', 9),\n",
       " (\"Winter's Bone\", 8),\n",
       " ('World Trade Center', 8)]"
      ]
     },
     "execution_count": 16,
     "metadata": {},
     "output_type": "execute_result"
    }
   ],
   "source": [
    "%%sql\n",
    "SELECT title, COUNT(rating) AS n_rated\n",
    "FROM renting\n",
    "LEFT JOIN movies\n",
    "ON renting.movie_id = movies.movie_id\n",
    "GROUP BY renting.movie_id\n",
    "ORDER BY n_rated DESC\n",
    "LIMIT 5;"
   ]
  },
  {
   "cell_type": "markdown",
   "metadata": {},
   "source": [
    "#### What is the top 5 movies that have the highest average rating?\n",
    "Note: only choose movie that has more than the average number of rating"
   ]
  },
  {
   "cell_type": "code",
   "execution_count": 33,
   "metadata": {},
   "outputs": [
    {
     "name": "stdout",
     "output_type": "stream",
     "text": [
      " * sqlite:///MovieNow.db\n",
      "Done.\n"
     ]
    },
    {
     "data": {
      "text/html": [
       "<table>\n",
       "    <thead>\n",
       "        <tr>\n",
       "            <th>AVG(n_rating)</th>\n",
       "        </tr>\n",
       "    </thead>\n",
       "    <tbody>\n",
       "        <tr>\n",
       "            <td>4.619718309859155</td>\n",
       "        </tr>\n",
       "    </tbody>\n",
       "</table>"
      ],
      "text/plain": [
       "[(4.619718309859155,)]"
      ]
     },
     "execution_count": 33,
     "metadata": {},
     "output_type": "execute_result"
    }
   ],
   "source": [
    "%%sql\n",
    "WITH count_rating AS (\n",
    "    SELECT COUNT(rating) AS n_rating\n",
    "    FROM renting\n",
    "    GROUP BY movie_id\n",
    ")\n",
    "SELECT AVG(n_rating)\n",
    "FROM count_rating"
   ]
  },
  {
   "cell_type": "code",
   "execution_count": 7,
   "metadata": {},
   "outputs": [
    {
     "name": "stdout",
     "output_type": "stream",
     "text": [
      " * sqlite:///MovieNow.db\n",
      "Done.\n"
     ]
    },
    {
     "data": {
      "text/html": [
       "<table>\n",
       "    <thead>\n",
       "        <tr>\n",
       "            <th>title</th>\n",
       "            <th>number_rating</th>\n",
       "            <th>avg_rating</th>\n",
       "        </tr>\n",
       "    </thead>\n",
       "    <tbody>\n",
       "        <tr>\n",
       "            <td>No Country for Old Men</td>\n",
       "            <td>5</td>\n",
       "            <td>9.6</td>\n",
       "        </tr>\n",
       "        <tr>\n",
       "            <td>Django Unchained</td>\n",
       "            <td>6</td>\n",
       "            <td>9.33</td>\n",
       "        </tr>\n",
       "        <tr>\n",
       "            <td>Secondhand Lions</td>\n",
       "            <td>5</td>\n",
       "            <td>9.0</td>\n",
       "        </tr>\n",
       "        <tr>\n",
       "            <td>Ghost Rider: Spirit of Vengeance</td>\n",
       "            <td>5</td>\n",
       "            <td>9.0</td>\n",
       "        </tr>\n",
       "        <tr>\n",
       "            <td>Young Adult</td>\n",
       "            <td>6</td>\n",
       "            <td>8.83</td>\n",
       "        </tr>\n",
       "    </tbody>\n",
       "</table>"
      ],
      "text/plain": [
       "[('No Country for Old Men', 5, 9.6),\n",
       " ('Django Unchained', 6, 9.33),\n",
       " ('Secondhand Lions', 5, 9.0),\n",
       " ('Ghost Rider: Spirit of Vengeance', 5, 9.0),\n",
       " ('Young Adult', 6, 8.83)]"
      ]
     },
     "execution_count": 7,
     "metadata": {},
     "output_type": "execute_result"
    }
   ],
   "source": [
    "%%sql\n",
    "WITH count_rating AS (\n",
    "    SELECT COUNT(rating) AS n_rating\n",
    "    FROM renting\n",
    "    GROUP BY movie_id\n",
    ")\n",
    "\n",
    "SELECT title,\n",
    "       COUNT(rating) AS number_rating,\n",
    "       ROUND(AVG(rating),2) AS avg_rating\n",
    "FROM movies AS m\n",
    "LEFT JOIN renting AS r\n",
    "ON m.movie_id = r.movie_id\n",
    "GROUP BY r.movie_id\n",
    "HAVING number_rating > (\n",
    "    SELECT ROUND(AVG(n_rating),2)\n",
    "    FROM count_rating\n",
    ")\n",
    "ORDER BY avg_rating DESC, number_rating DESC\n",
    "LIMIT 5;"
   ]
  },
  {
   "cell_type": "markdown",
   "metadata": {},
   "source": [
    "#### What are movies that have rating above average?"
   ]
  },
  {
   "cell_type": "code",
   "execution_count": 30,
   "metadata": {},
   "outputs": [
    {
     "name": "stdout",
     "output_type": "stream",
     "text": [
      " * sqlite:///MovieNow.db\n",
      "Done.\n"
     ]
    },
    {
     "data": {
      "text/html": [
       "<table>\n",
       "    <thead>\n",
       "        <tr>\n",
       "            <th>title</th>\n",
       "            <th>avg_movie_rating</th>\n",
       "            <th>n_rating</th>\n",
       "        </tr>\n",
       "    </thead>\n",
       "    <tbody>\n",
       "        <tr>\n",
       "            <td>Astro Boy</td>\n",
       "            <td>10.0</td>\n",
       "            <td>2</td>\n",
       "        </tr>\n",
       "        <tr>\n",
       "            <td>The Fellowship of the Ring</td>\n",
       "            <td>9.75</td>\n",
       "            <td>4</td>\n",
       "        </tr>\n",
       "        <tr>\n",
       "            <td>No Country for Old Men</td>\n",
       "            <td>9.6</td>\n",
       "            <td>5</td>\n",
       "        </tr>\n",
       "        <tr>\n",
       "            <td>Django Unchained</td>\n",
       "            <td>9.333333333333334</td>\n",
       "            <td>6</td>\n",
       "        </tr>\n",
       "        <tr>\n",
       "            <td>What Women Want</td>\n",
       "            <td>9.0</td>\n",
       "            <td>2</td>\n",
       "        </tr>\n",
       "        <tr>\n",
       "            <td>Secondhand Lions</td>\n",
       "            <td>9.0</td>\n",
       "            <td>5</td>\n",
       "        </tr>\n",
       "        <tr>\n",
       "            <td>Ghost Rider: Spirit of Vengeance</td>\n",
       "            <td>9.0</td>\n",
       "            <td>5</td>\n",
       "        </tr>\n",
       "        <tr>\n",
       "            <td>Young Adult</td>\n",
       "            <td>8.833333333333334</td>\n",
       "            <td>6</td>\n",
       "        </tr>\n",
       "        <tr>\n",
       "            <td>Harry Potter and the Philosopher&#x27;s Stone</td>\n",
       "            <td>8.8</td>\n",
       "            <td>5</td>\n",
       "        </tr>\n",
       "        <tr>\n",
       "            <td>Fool&#x27;s Gold</td>\n",
       "            <td>8.75</td>\n",
       "            <td>4</td>\n",
       "        </tr>\n",
       "        <tr>\n",
       "            <td>The Lake House</td>\n",
       "            <td>8.666666666666666</td>\n",
       "            <td>3</td>\n",
       "        </tr>\n",
       "        <tr>\n",
       "            <td>Imagining Argentina</td>\n",
       "            <td>8.666666666666666</td>\n",
       "            <td>6</td>\n",
       "        </tr>\n",
       "        <tr>\n",
       "            <td>Harry Potter and the Half-Blood Prince</td>\n",
       "            <td>8.636363636363637</td>\n",
       "            <td>11</td>\n",
       "        </tr>\n",
       "        <tr>\n",
       "            <td>25th Hour</td>\n",
       "            <td>8.6</td>\n",
       "            <td>5</td>\n",
       "        </tr>\n",
       "        <tr>\n",
       "            <td>Black Death</td>\n",
       "            <td>8.5</td>\n",
       "            <td>2</td>\n",
       "        </tr>\n",
       "        <tr>\n",
       "            <td>Morning Glory</td>\n",
       "            <td>8.428571428571429</td>\n",
       "            <td>7</td>\n",
       "        </tr>\n",
       "        <tr>\n",
       "            <td>Welcome to Mooseport</td>\n",
       "            <td>8.4</td>\n",
       "            <td>5</td>\n",
       "        </tr>\n",
       "        <tr>\n",
       "            <td>V for Vendetta</td>\n",
       "            <td>8.4</td>\n",
       "            <td>5</td>\n",
       "        </tr>\n",
       "        <tr>\n",
       "            <td>The Help</td>\n",
       "            <td>8.333333333333334</td>\n",
       "            <td>3</td>\n",
       "        </tr>\n",
       "        <tr>\n",
       "            <td>Ray</td>\n",
       "            <td>8.333333333333334</td>\n",
       "            <td>3</td>\n",
       "        </tr>\n",
       "        <tr>\n",
       "            <td>11&#x27;09&#x27;&#x27;01 September 11</td>\n",
       "            <td>8.333333333333334</td>\n",
       "            <td>3</td>\n",
       "        </tr>\n",
       "        <tr>\n",
       "            <td>Monster</td>\n",
       "            <td>8.285714285714286</td>\n",
       "            <td>7</td>\n",
       "        </tr>\n",
       "        <tr>\n",
       "            <td>The Sessions</td>\n",
       "            <td>8.25</td>\n",
       "            <td>4</td>\n",
       "        </tr>\n",
       "        <tr>\n",
       "            <td>Cloud Atlas</td>\n",
       "            <td>8.25</td>\n",
       "            <td>4</td>\n",
       "        </tr>\n",
       "        <tr>\n",
       "            <td>Then She Found Me</td>\n",
       "            <td>8.166666666666666</td>\n",
       "            <td>6</td>\n",
       "        </tr>\n",
       "        <tr>\n",
       "            <td>Harry Potter and the Deathly Hallows – Part 1</td>\n",
       "            <td>8.166666666666666</td>\n",
       "            <td>6</td>\n",
       "        </tr>\n",
       "        <tr>\n",
       "            <td>Winter&#x27;s Bone</td>\n",
       "            <td>8.0</td>\n",
       "            <td>8</td>\n",
       "        </tr>\n",
       "        <tr>\n",
       "            <td>Waking Up in Reno</td>\n",
       "            <td>8.0</td>\n",
       "            <td>1</td>\n",
       "        </tr>\n",
       "        <tr>\n",
       "            <td>Two for the Money</td>\n",
       "            <td>8.0</td>\n",
       "            <td>7</td>\n",
       "        </tr>\n",
       "        <tr>\n",
       "            <td>The Royal Tenenbaums</td>\n",
       "            <td>8.0</td>\n",
       "            <td>5</td>\n",
       "        </tr>\n",
       "        <tr>\n",
       "            <td>The Human Stain</td>\n",
       "            <td>8.0</td>\n",
       "            <td>1</td>\n",
       "        </tr>\n",
       "        <tr>\n",
       "            <td>The Fighter</td>\n",
       "            <td>8.0</td>\n",
       "            <td>4</td>\n",
       "        </tr>\n",
       "        <tr>\n",
       "            <td>Shall We Dance</td>\n",
       "            <td>8.0</td>\n",
       "            <td>7</td>\n",
       "        </tr>\n",
       "        <tr>\n",
       "            <td>Rio 2</td>\n",
       "            <td>8.0</td>\n",
       "            <td>4</td>\n",
       "        </tr>\n",
       "        <tr>\n",
       "            <td>I&#x27;m Not There</td>\n",
       "            <td>8.0</td>\n",
       "            <td>4</td>\n",
       "        </tr>\n",
       "        <tr>\n",
       "            <td>Harry Potter and the Prisoner of Azkaban</td>\n",
       "            <td>8.0</td>\n",
       "            <td>8</td>\n",
       "        </tr>\n",
       "        <tr>\n",
       "            <td>Harry Potter and the Deathly Hallows – Part 2</td>\n",
       "            <td>8.0</td>\n",
       "            <td>6</td>\n",
       "        </tr>\n",
       "        <tr>\n",
       "            <td>Harry Potter and the Chamber of Secrets</td>\n",
       "            <td>8.0</td>\n",
       "            <td>4</td>\n",
       "        </tr>\n",
       "        <tr>\n",
       "            <td>Happy Feet</td>\n",
       "            <td>8.0</td>\n",
       "            <td>3</td>\n",
       "        </tr>\n",
       "        <tr>\n",
       "            <td>Failure to Launch</td>\n",
       "            <td>8.0</td>\n",
       "            <td>6</td>\n",
       "        </tr>\n",
       "        <tr>\n",
       "            <td>Training Day</td>\n",
       "            <td>7.888888888888889</td>\n",
       "            <td>9</td>\n",
       "        </tr>\n",
       "        <tr>\n",
       "            <td>The Two Towers</td>\n",
       "            <td>7.833333333333333</td>\n",
       "            <td>6</td>\n",
       "        </tr>\n",
       "        <tr>\n",
       "            <td>The Kingdom</td>\n",
       "            <td>7.8</td>\n",
       "            <td>10</td>\n",
       "        </tr>\n",
       "        <tr>\n",
       "            <td>The Frozen Ground</td>\n",
       "            <td>7.8</td>\n",
       "            <td>5</td>\n",
       "        </tr>\n",
       "        <tr>\n",
       "            <td>Captain Phillips</td>\n",
       "            <td>7.75</td>\n",
       "            <td>4</td>\n",
       "        </tr>\n",
       "        <tr>\n",
       "            <td>White House Down</td>\n",
       "            <td>7.666666666666667</td>\n",
       "            <td>3</td>\n",
       "        </tr>\n",
       "        <tr>\n",
       "            <td>Candy</td>\n",
       "            <td>7.666666666666667</td>\n",
       "            <td>3</td>\n",
       "        </tr>\n",
       "        <tr>\n",
       "            <td>The Other Woman</td>\n",
       "            <td>7.5</td>\n",
       "            <td>2</td>\n",
       "        </tr>\n",
       "        <tr>\n",
       "            <td>Bridget Jones - The Edge of Reason</td>\n",
       "            <td>7.5</td>\n",
       "            <td>8</td>\n",
       "        </tr>\n",
       "        <tr>\n",
       "            <td>Harry Potter and the Order of the Phoenix</td>\n",
       "            <td>7.333333333333333</td>\n",
       "            <td>6</td>\n",
       "        </tr>\n",
       "        <tr>\n",
       "            <td>Swordfish</td>\n",
       "            <td>7.25</td>\n",
       "            <td>4</td>\n",
       "        </tr>\n",
       "        <tr>\n",
       "            <td>Sleepwalking</td>\n",
       "            <td>7.25</td>\n",
       "            <td>4</td>\n",
       "        </tr>\n",
       "        <tr>\n",
       "            <td>One Night at McCool&#x27;s</td>\n",
       "            <td>7.25</td>\n",
       "            <td>4</td>\n",
       "        </tr>\n",
       "        <tr>\n",
       "            <td>Harry Potter and the Goblet of Fire</td>\n",
       "            <td>7.25</td>\n",
       "            <td>4</td>\n",
       "        </tr>\n",
       "        <tr>\n",
       "            <td>Capote</td>\n",
       "            <td>7.25</td>\n",
       "            <td>4</td>\n",
       "        </tr>\n",
       "        <tr>\n",
       "            <td>A Good Woman</td>\n",
       "            <td>7.25</td>\n",
       "            <td>4</td>\n",
       "        </tr>\n",
       "        <tr>\n",
       "            <td>21 Grams</td>\n",
       "            <td>7.2</td>\n",
       "            <td>5</td>\n",
       "        </tr>\n",
       "        <tr>\n",
       "            <td>Fair Game</td>\n",
       "            <td>7.142857142857143</td>\n",
       "            <td>7</td>\n",
       "        </tr>\n",
       "        <tr>\n",
       "            <td>World Trade Center</td>\n",
       "            <td>7.0</td>\n",
       "            <td>8</td>\n",
       "        </tr>\n",
       "        <tr>\n",
       "            <td>The Return of the King</td>\n",
       "            <td>7.0</td>\n",
       "            <td>1</td>\n",
       "        </tr>\n",
       "        <tr>\n",
       "            <td>Love Actually</td>\n",
       "            <td>7.0</td>\n",
       "            <td>1</td>\n",
       "        </tr>\n",
       "        <tr>\n",
       "            <td>Burn After Reading</td>\n",
       "            <td>7.0</td>\n",
       "            <td>6</td>\n",
       "        </tr>\n",
       "        <tr>\n",
       "            <td>Simone</td>\n",
       "            <td>6.833333333333333</td>\n",
       "            <td>6</td>\n",
       "        </tr>\n",
       "        <tr>\n",
       "            <td>The Hunger Games</td>\n",
       "            <td>6.8</td>\n",
       "            <td>5</td>\n",
       "        </tr>\n",
       "        <tr>\n",
       "            <td>The Recruit</td>\n",
       "            <td>6.5</td>\n",
       "            <td>6</td>\n",
       "        </tr>\n",
       "        <tr>\n",
       "            <td>Something&#x27;s Gotta Give</td>\n",
       "            <td>6.5</td>\n",
       "            <td>2</td>\n",
       "        </tr>\n",
       "        <tr>\n",
       "            <td>The Company You Keep</td>\n",
       "            <td>6.333333333333333</td>\n",
       "            <td>3</td>\n",
       "        </tr>\n",
       "        <tr>\n",
       "            <td>The Invasion</td>\n",
       "            <td>6.0</td>\n",
       "            <td>1</td>\n",
       "        </tr>\n",
       "        <tr>\n",
       "            <td>Brighton Rock</td>\n",
       "            <td>6.0</td>\n",
       "            <td>2</td>\n",
       "        </tr>\n",
       "        <tr>\n",
       "            <td>Jack and Jill</td>\n",
       "            <td>5.666666666666667</td>\n",
       "            <td>3</td>\n",
       "        </tr>\n",
       "        <tr>\n",
       "            <td>Showtime</td>\n",
       "            <td>None</td>\n",
       "            <td>0</td>\n",
       "        </tr>\n",
       "    </tbody>\n",
       "</table>"
      ],
      "text/plain": [
       "[('Astro Boy', 10.0, 2),\n",
       " ('The Fellowship of the Ring', 9.75, 4),\n",
       " ('No Country for Old Men', 9.6, 5),\n",
       " ('Django Unchained', 9.333333333333334, 6),\n",
       " ('What Women Want', 9.0, 2),\n",
       " ('Secondhand Lions', 9.0, 5),\n",
       " ('Ghost Rider: Spirit of Vengeance', 9.0, 5),\n",
       " ('Young Adult', 8.833333333333334, 6),\n",
       " (\"Harry Potter and the Philosopher's Stone\", 8.8, 5),\n",
       " (\"Fool's Gold\", 8.75, 4),\n",
       " ('The Lake House', 8.666666666666666, 3),\n",
       " ('Imagining Argentina', 8.666666666666666, 6),\n",
       " ('Harry Potter and the Half-Blood Prince', 8.636363636363637, 11),\n",
       " ('25th Hour', 8.6, 5),\n",
       " ('Black Death', 8.5, 2),\n",
       " ('Morning Glory', 8.428571428571429, 7),\n",
       " ('Welcome to Mooseport', 8.4, 5),\n",
       " ('V for Vendetta', 8.4, 5),\n",
       " ('The Help', 8.333333333333334, 3),\n",
       " ('Ray', 8.333333333333334, 3),\n",
       " (\"11'09''01 September 11\", 8.333333333333334, 3),\n",
       " ('Monster', 8.285714285714286, 7),\n",
       " ('The Sessions', 8.25, 4),\n",
       " ('Cloud Atlas', 8.25, 4),\n",
       " ('Then She Found Me', 8.166666666666666, 6),\n",
       " ('Harry Potter and the Deathly Hallows – Part 1', 8.166666666666666, 6),\n",
       " (\"Winter's Bone\", 8.0, 8),\n",
       " ('Waking Up in Reno', 8.0, 1),\n",
       " ('Two for the Money', 8.0, 7),\n",
       " ('The Royal Tenenbaums', 8.0, 5),\n",
       " ('The Human Stain', 8.0, 1),\n",
       " ('The Fighter', 8.0, 4),\n",
       " ('Shall We Dance', 8.0, 7),\n",
       " ('Rio 2', 8.0, 4),\n",
       " (\"I'm Not There\", 8.0, 4),\n",
       " ('Harry Potter and the Prisoner of Azkaban', 8.0, 8),\n",
       " ('Harry Potter and the Deathly Hallows – Part 2', 8.0, 6),\n",
       " ('Harry Potter and the Chamber of Secrets', 8.0, 4),\n",
       " ('Happy Feet', 8.0, 3),\n",
       " ('Failure to Launch', 8.0, 6),\n",
       " ('Training Day', 7.888888888888889, 9),\n",
       " ('The Two Towers', 7.833333333333333, 6),\n",
       " ('The Kingdom', 7.8, 10),\n",
       " ('The Frozen Ground', 7.8, 5),\n",
       " ('Captain Phillips', 7.75, 4),\n",
       " ('White House Down', 7.666666666666667, 3),\n",
       " ('Candy', 7.666666666666667, 3),\n",
       " ('The Other Woman', 7.5, 2),\n",
       " ('Bridget Jones - The Edge of Reason', 7.5, 8),\n",
       " ('Harry Potter and the Order of the Phoenix', 7.333333333333333, 6),\n",
       " ('Swordfish', 7.25, 4),\n",
       " ('Sleepwalking', 7.25, 4),\n",
       " (\"One Night at McCool's\", 7.25, 4),\n",
       " ('Harry Potter and the Goblet of Fire', 7.25, 4),\n",
       " ('Capote', 7.25, 4),\n",
       " ('A Good Woman', 7.25, 4),\n",
       " ('21 Grams', 7.2, 5),\n",
       " ('Fair Game', 7.142857142857143, 7),\n",
       " ('World Trade Center', 7.0, 8),\n",
       " ('The Return of the King', 7.0, 1),\n",
       " ('Love Actually', 7.0, 1),\n",
       " ('Burn After Reading', 7.0, 6),\n",
       " ('Simone', 6.833333333333333, 6),\n",
       " ('The Hunger Games', 6.8, 5),\n",
       " ('The Recruit', 6.5, 6),\n",
       " (\"Something's Gotta Give\", 6.5, 2),\n",
       " ('The Company You Keep', 6.333333333333333, 3),\n",
       " ('The Invasion', 6.0, 1),\n",
       " ('Brighton Rock', 6.0, 2),\n",
       " ('Jack and Jill', 5.666666666666667, 3),\n",
       " ('Showtime', None, 0)]"
      ]
     },
     "execution_count": 30,
     "metadata": {},
     "output_type": "execute_result"
    }
   ],
   "source": [
    "%%sql\n",
    "SELECT m.title, AVG(r.rating) AS avg_movie_rating, COUNT(rating) AS n_rating\n",
    "FROM renting AS r\n",
    "JOIN movies AS m ON r.movie_id = m.movie_id\n",
    "GROUP BY m.title\n",
    "ORDER BY avg_movie_rating DESC;\n"
   ]
  },
  {
   "cell_type": "markdown",
   "metadata": {},
   "source": [
    "#### How much income did each movie generate? "
   ]
  },
  {
   "cell_type": "code",
   "execution_count": 70,
   "metadata": {},
   "outputs": [
    {
     "name": "stdout",
     "output_type": "stream",
     "text": [
      " * sqlite:///MovieNow.db\n",
      "Done.\n"
     ]
    },
    {
     "data": {
      "text/html": [
       "<table>\n",
       "    <thead>\n",
       "        <tr>\n",
       "            <th>title</th>\n",
       "            <th>income_movie</th>\n",
       "        </tr>\n",
       "    </thead>\n",
       "    <tbody>\n",
       "        <tr>\n",
       "            <td>Bridget Jones - The Edge of Reason</td>\n",
       "            <td>37.57</td>\n",
       "        </tr>\n",
       "        <tr>\n",
       "            <td>Fair Game</td>\n",
       "            <td>34.68</td>\n",
       "        </tr>\n",
       "        <tr>\n",
       "            <td>The Kingdom</td>\n",
       "            <td>31.35</td>\n",
       "        </tr>\n",
       "        <tr>\n",
       "            <td>Two for the Money</td>\n",
       "            <td>30.69</td>\n",
       "        </tr>\n",
       "        <tr>\n",
       "            <td>Simone</td>\n",
       "            <td>29.59</td>\n",
       "        </tr>\n",
       "    </tbody>\n",
       "</table>"
      ],
      "text/plain": [
       "[('Bridget Jones - The Edge of Reason', 37.57),\n",
       " ('Fair Game', 34.68),\n",
       " ('The Kingdom', 31.35),\n",
       " ('Two for the Money', 30.69),\n",
       " ('Simone', 29.59)]"
      ]
     },
     "execution_count": 70,
     "metadata": {},
     "output_type": "execute_result"
    }
   ],
   "source": [
    "%%sql\n",
    "SELECT rm.title,\n",
    "       ROUND(SUM(rm.renting_price),2) AS income_movie\n",
    "FROM\n",
    "       (SELECT m.title,  \n",
    "               m.renting_price\n",
    "       FROM renting AS r\n",
    "       LEFT JOIN movies AS m\n",
    "       ON r.movie_id=m.movie_id) AS rm\n",
    "GROUP BY rm.title\n",
    "ORDER BY income_movie DESC\n",
    "LIMIT 5; "
   ]
  },
  {
   "cell_type": "markdown",
   "metadata": {},
   "source": [
    "#### What is the popular genre among customers?"
   ]
  },
  {
   "cell_type": "code",
   "execution_count": 9,
   "metadata": {},
   "outputs": [
    {
     "name": "stdout",
     "output_type": "stream",
     "text": [
      " * sqlite:///MovieNow.db\n",
      "Done.\n"
     ]
    },
    {
     "data": {
      "text/html": [
       "<table>\n",
       "    <thead>\n",
       "        <tr>\n",
       "            <th>genre</th>\n",
       "            <th>n_rented</th>\n",
       "        </tr>\n",
       "    </thead>\n",
       "    <tbody>\n",
       "        <tr>\n",
       "            <td>Drama</td>\n",
       "            <td>319</td>\n",
       "        </tr>\n",
       "        <tr>\n",
       "            <td>Science Fiction &amp; Fantasy</td>\n",
       "            <td>95</td>\n",
       "        </tr>\n",
       "        <tr>\n",
       "            <td>Comedy</td>\n",
       "            <td>69</td>\n",
       "        </tr>\n",
       "        <tr>\n",
       "            <td>Mystery &amp; Suspense</td>\n",
       "            <td>39</td>\n",
       "        </tr>\n",
       "        <tr>\n",
       "            <td>Other</td>\n",
       "            <td>20</td>\n",
       "        </tr>\n",
       "        <tr>\n",
       "            <td>Action &amp; Adventure</td>\n",
       "            <td>16</td>\n",
       "        </tr>\n",
       "        <tr>\n",
       "            <td>Animation</td>\n",
       "            <td>12</td>\n",
       "        </tr>\n",
       "        <tr>\n",
       "            <td>Art House &amp; International</td>\n",
       "            <td>8</td>\n",
       "        </tr>\n",
       "    </tbody>\n",
       "</table>"
      ],
      "text/plain": [
       "[('Drama', 319),\n",
       " ('Science Fiction & Fantasy', 95),\n",
       " ('Comedy', 69),\n",
       " ('Mystery & Suspense', 39),\n",
       " ('Other', 20),\n",
       " ('Action & Adventure', 16),\n",
       " ('Animation', 12),\n",
       " ('Art House & International', 8)]"
      ]
     },
     "execution_count": 9,
     "metadata": {},
     "output_type": "execute_result"
    }
   ],
   "source": [
    "%%sql\n",
    "SELECT genre, COUNT(renting_id) AS n_rented\n",
    "FROM renting AS r\n",
    "LEFT JOIN movies AS m\n",
    "ON r.movie_id = m.movie_id\n",
    "GROUP BY genre\n",
    "ORDER BY n_rented DESC;"
   ]
  },
  {
   "cell_type": "code",
   "execution_count": 12,
   "metadata": {},
   "outputs": [
    {
     "name": "stdout",
     "output_type": "stream",
     "text": [
      " * sqlite:///MovieNow.db\n",
      "Done.\n"
     ]
    },
    {
     "data": {
      "text/html": [
       "<table>\n",
       "    <thead>\n",
       "        <tr>\n",
       "            <th>genre</th>\n",
       "            <th>n_movie</th>\n",
       "        </tr>\n",
       "    </thead>\n",
       "    <tbody>\n",
       "        <tr>\n",
       "            <td>Drama</td>\n",
       "            <td>36</td>\n",
       "        </tr>\n",
       "        <tr>\n",
       "            <td>Science Fiction &amp; Fantasy</td>\n",
       "            <td>11</td>\n",
       "        </tr>\n",
       "        <tr>\n",
       "            <td>Comedy</td>\n",
       "            <td>10</td>\n",
       "        </tr>\n",
       "        <tr>\n",
       "            <td>Mystery &amp; Suspense</td>\n",
       "            <td>6</td>\n",
       "        </tr>\n",
       "        <tr>\n",
       "            <td>Action &amp; Adventure</td>\n",
       "            <td>3</td>\n",
       "        </tr>\n",
       "        <tr>\n",
       "            <td>Other</td>\n",
       "            <td>2</td>\n",
       "        </tr>\n",
       "        <tr>\n",
       "            <td>Animation</td>\n",
       "            <td>2</td>\n",
       "        </tr>\n",
       "        <tr>\n",
       "            <td>Art House &amp; International</td>\n",
       "            <td>1</td>\n",
       "        </tr>\n",
       "    </tbody>\n",
       "</table>"
      ],
      "text/plain": [
       "[('Drama', 36),\n",
       " ('Science Fiction & Fantasy', 11),\n",
       " ('Comedy', 10),\n",
       " ('Mystery & Suspense', 6),\n",
       " ('Action & Adventure', 3),\n",
       " ('Other', 2),\n",
       " ('Animation', 2),\n",
       " ('Art House & International', 1)]"
      ]
     },
     "execution_count": 12,
     "metadata": {},
     "output_type": "execute_result"
    }
   ],
   "source": [
    "%%sql\n",
    "SELECT genre, COUNT(movie_id) AS n_movie\n",
    "FROM movies\n",
    "GROUP BY genre\n",
    "ORDER BY n_movie DESC;"
   ]
  },
  {
   "cell_type": "markdown",
   "metadata": {},
   "source": [
    "### Customer details"
   ]
  },
  {
   "cell_type": "code",
   "execution_count": 34,
   "metadata": {},
   "outputs": [
    {
     "name": "stdout",
     "output_type": "stream",
     "text": [
      " * sqlite:///MovieNow.db\n",
      "(sqlite3.OperationalError) no such function: CUBE\n",
      "[SQL: SELECT country, gender, COUNT(*)\n",
      "FROM customers\n",
      "GROUP BY CUBE (country, gender);]\n",
      "(Background on this error at: https://sqlalche.me/e/20/e3q8)\n"
     ]
    }
   ],
   "source": [
    "%%sql\n",
    "SELECT country, gender, COUNT(*)\n",
    "FROM customers\n",
    "GROUP BY CUBE (country, gender);"
   ]
  },
  {
   "cell_type": "markdown",
   "metadata": {},
   "source": [
    "Grouping based on age:<br>\n",
    "1970 - 1979<br>\n",
    "1980 - 1989<br>\n",
    "1990 - 1999<br>"
   ]
  },
  {
   "cell_type": "code",
   "execution_count": 18,
   "metadata": {},
   "outputs": [
    {
     "name": "stdout",
     "output_type": "stream",
     "text": [
      " * sqlite:///MovieNow.db\n",
      "Done.\n"
     ]
    },
    {
     "data": {
      "text/html": [
       "<table>\n",
       "    <thead>\n",
       "        <tr>\n",
       "            <th>birth_decade</th>\n",
       "            <th>people_count</th>\n",
       "        </tr>\n",
       "    </thead>\n",
       "    <tbody>\n",
       "        <tr>\n",
       "            <td>1970s</td>\n",
       "            <td>38</td>\n",
       "        </tr>\n",
       "        <tr>\n",
       "            <td>1980s</td>\n",
       "            <td>34</td>\n",
       "        </tr>\n",
       "        <tr>\n",
       "            <td>1990s</td>\n",
       "            <td>51</td>\n",
       "        </tr>\n",
       "    </tbody>\n",
       "</table>"
      ],
      "text/plain": [
       "[('1970s', 38), ('1980s', 34), ('1990s', 51)]"
      ]
     },
     "execution_count": 18,
     "metadata": {},
     "output_type": "execute_result"
    }
   ],
   "source": [
    "%%sql\n",
    "WITH date_ranges AS (\n",
    "    SELECT\n",
    "        CASE\n",
    "            WHEN date_of_birth BETWEEN '1970-01-01' AND '1979-12-31' THEN '1970s'\n",
    "            WHEN date_of_birth BETWEEN '1980-01-01' AND '1989-12-31' THEN '1980s'\n",
    "            WHEN date_of_birth BETWEEN '1990-01-01' AND '1999-12-31' THEN '1990s'\n",
    "            ELSE 'Other'\n",
    "        END AS birth_decade,\n",
    "        customer_id\n",
    "    FROM customers\n",
    ")\n",
    "\n",
    "SELECT\n",
    "    birth_decade,\n",
    "    COUNT(*) AS people_count\n",
    "FROM date_ranges\n",
    "GROUP BY birth_decade;"
   ]
  },
  {
   "cell_type": "markdown",
   "metadata": {},
   "source": [
    "Grouping based on country:"
   ]
  },
  {
   "cell_type": "code",
   "execution_count": 19,
   "metadata": {},
   "outputs": [
    {
     "name": "stdout",
     "output_type": "stream",
     "text": [
      " * sqlite:///MovieNow.db\n",
      "Done.\n"
     ]
    },
    {
     "data": {
      "text/html": [
       "<table>\n",
       "    <thead>\n",
       "        <tr>\n",
       "            <th>country</th>\n",
       "            <th>n_customer</th>\n",
       "        </tr>\n",
       "    </thead>\n",
       "    <tbody>\n",
       "        <tr>\n",
       "            <td>Italy</td>\n",
       "            <td>27</td>\n",
       "        </tr>\n",
       "        <tr>\n",
       "            <td>Spain</td>\n",
       "            <td>16</td>\n",
       "        </tr>\n",
       "        <tr>\n",
       "            <td>Poland</td>\n",
       "            <td>13</td>\n",
       "        </tr>\n",
       "        <tr>\n",
       "            <td>France</td>\n",
       "            <td>13</td>\n",
       "        </tr>\n",
       "        <tr>\n",
       "            <td>Slovenia</td>\n",
       "            <td>11</td>\n",
       "        </tr>\n",
       "        <tr>\n",
       "            <td>Hungary</td>\n",
       "            <td>11</td>\n",
       "        </tr>\n",
       "        <tr>\n",
       "            <td>Great Britan</td>\n",
       "            <td>10</td>\n",
       "        </tr>\n",
       "        <tr>\n",
       "            <td>Denmark</td>\n",
       "            <td>7</td>\n",
       "        </tr>\n",
       "        <tr>\n",
       "            <td>Belgium</td>\n",
       "            <td>6</td>\n",
       "        </tr>\n",
       "        <tr>\n",
       "            <td>Austria</td>\n",
       "            <td>5</td>\n",
       "        </tr>\n",
       "        <tr>\n",
       "            <td>USA</td>\n",
       "            <td>4</td>\n",
       "        </tr>\n",
       "    </tbody>\n",
       "</table>"
      ],
      "text/plain": [
       "[('Italy', 27),\n",
       " ('Spain', 16),\n",
       " ('Poland', 13),\n",
       " ('France', 13),\n",
       " ('Slovenia', 11),\n",
       " ('Hungary', 11),\n",
       " ('Great Britan', 10),\n",
       " ('Denmark', 7),\n",
       " ('Belgium', 6),\n",
       " ('Austria', 5),\n",
       " ('USA', 4)]"
      ]
     },
     "execution_count": 19,
     "metadata": {},
     "output_type": "execute_result"
    }
   ],
   "source": [
    "%%sql\n",
    "SELECT country, COUNT(*) AS n_customer\n",
    "FROM customers\n",
    "GROUP BY country\n",
    "ORDER BY n_customer DESC;"
   ]
  },
  {
   "cell_type": "markdown",
   "metadata": {},
   "source": [
    "### Actors"
   ]
  },
  {
   "cell_type": "markdown",
   "metadata": {},
   "source": [
    "#### Actors with most screenplays"
   ]
  },
  {
   "cell_type": "code",
   "execution_count": 29,
   "metadata": {},
   "outputs": [
    {
     "name": "stdout",
     "output_type": "stream",
     "text": [
      " * sqlite:///MovieNow.db\n",
      "Done.\n"
     ]
    },
    {
     "data": {
      "text/html": [
       "<table>\n",
       "    <thead>\n",
       "        <tr>\n",
       "            <th>name</th>\n",
       "            <th>n_screenplay</th>\n",
       "            <th>actor_id</th>\n",
       "        </tr>\n",
       "    </thead>\n",
       "    <tbody>\n",
       "        <tr>\n",
       "            <td>Rupert Grint</td>\n",
       "            <td>8</td>\n",
       "            <td>123</td>\n",
       "        </tr>\n",
       "        <tr>\n",
       "            <td>Emma Watson</td>\n",
       "            <td>8</td>\n",
       "            <td>42</td>\n",
       "        </tr>\n",
       "        <tr>\n",
       "            <td>Daniel Radcliffe</td>\n",
       "            <td>8</td>\n",
       "            <td>32</td>\n",
       "        </tr>\n",
       "        <tr>\n",
       "            <td>Nicolas Cage</td>\n",
       "            <td>4</td>\n",
       "            <td>105</td>\n",
       "        </tr>\n",
       "        <tr>\n",
       "            <td>Jamie Foxx</td>\n",
       "            <td>4</td>\n",
       "            <td>64</td>\n",
       "        </tr>\n",
       "    </tbody>\n",
       "</table>"
      ],
      "text/plain": [
       "[('Rupert Grint', 8, 123),\n",
       " ('Emma Watson', 8, 42),\n",
       " ('Daniel Radcliffe', 8, 32),\n",
       " ('Nicolas Cage', 4, 105),\n",
       " ('Jamie Foxx', 4, 64)]"
      ]
     },
     "execution_count": 29,
     "metadata": {},
     "output_type": "execute_result"
    }
   ],
   "source": [
    "%%sql\n",
    "SELECT name, COUNT(*) n_screenplay, actor_id\n",
    "FROM actors\n",
    "RIGHT JOIN actsin\n",
    "USING(actor_id)\n",
    "GROUP by name\n",
    "ORDER BY n_screenplay DESC\n",
    "LIMIT 5;"
   ]
  },
  {
   "cell_type": "markdown",
   "metadata": {},
   "source": [
    "Movies played by top actors:"
   ]
  },
  {
   "cell_type": "code",
   "execution_count": 41,
   "metadata": {},
   "outputs": [
    {
     "name": "stdout",
     "output_type": "stream",
     "text": [
      " * sqlite:///MovieNow.db\n",
      "Done.\n"
     ]
    },
    {
     "data": {
      "text/html": [
       "<table>\n",
       "    <thead>\n",
       "        <tr>\n",
       "            <th>name</th>\n",
       "            <th>actor_id</th>\n",
       "        </tr>\n",
       "    </thead>\n",
       "    <tbody>\n",
       "        <tr>\n",
       "            <td>Daniel Radcliffe</td>\n",
       "            <td>32</td>\n",
       "        </tr>\n",
       "        <tr>\n",
       "            <td>Emma Watson</td>\n",
       "            <td>42</td>\n",
       "        </tr>\n",
       "        <tr>\n",
       "            <td>Nicolas Cage</td>\n",
       "            <td>105</td>\n",
       "        </tr>\n",
       "    </tbody>\n",
       "</table>"
      ],
      "text/plain": [
       "[('Daniel Radcliffe', 32), ('Emma Watson', 42), ('Nicolas Cage', 105)]"
      ]
     },
     "execution_count": 41,
     "metadata": {},
     "output_type": "execute_result"
    }
   ],
   "source": [
    "%%sql\n",
    "SELECT name, actor_id\n",
    "FROM actors\n",
    "WHERE name IN ('Rupert Grint', 'Emma Watson', 'Daniel Radcliffe');"
   ]
  },
  {
   "cell_type": "code",
   "execution_count": 56,
   "metadata": {},
   "outputs": [
    {
     "name": "stdout",
     "output_type": "stream",
     "text": [
      " * sqlite:///MovieNow.db\n",
      "Done.\n"
     ]
    },
    {
     "data": {
      "text/html": [
       "<table>\n",
       "    <thead>\n",
       "        <tr>\n",
       "            <th>actor_name</th>\n",
       "            <th>movie_title</th>\n",
       "        </tr>\n",
       "    </thead>\n",
       "    <tbody>\n",
       "        <tr>\n",
       "            <td>Daniel Radcliffe</td>\n",
       "            <td>Harry Potter and the Philosopher&#x27;s Stone</td>\n",
       "        </tr>\n",
       "        <tr>\n",
       "            <td>Daniel Radcliffe</td>\n",
       "            <td>Harry Potter and the Chamber of Secrets</td>\n",
       "        </tr>\n",
       "        <tr>\n",
       "            <td>Daniel Radcliffe</td>\n",
       "            <td>Harry Potter and the Prisoner of Azkaban</td>\n",
       "        </tr>\n",
       "        <tr>\n",
       "            <td>Daniel Radcliffe</td>\n",
       "            <td>Harry Potter and the Goblet of Fire</td>\n",
       "        </tr>\n",
       "        <tr>\n",
       "            <td>Daniel Radcliffe</td>\n",
       "            <td>Harry Potter and the Order of the Phoenix</td>\n",
       "        </tr>\n",
       "        <tr>\n",
       "            <td>Daniel Radcliffe</td>\n",
       "            <td>Harry Potter and the Half-Blood Prince</td>\n",
       "        </tr>\n",
       "        <tr>\n",
       "            <td>Daniel Radcliffe</td>\n",
       "            <td>Harry Potter and the Deathly Hallows – Part 1</td>\n",
       "        </tr>\n",
       "        <tr>\n",
       "            <td>Daniel Radcliffe</td>\n",
       "            <td>Harry Potter and the Deathly Hallows – Part 2</td>\n",
       "        </tr>\n",
       "        <tr>\n",
       "            <td>Emma Watson</td>\n",
       "            <td>Harry Potter and the Philosopher&#x27;s Stone</td>\n",
       "        </tr>\n",
       "        <tr>\n",
       "            <td>Emma Watson</td>\n",
       "            <td>Harry Potter and the Chamber of Secrets</td>\n",
       "        </tr>\n",
       "        <tr>\n",
       "            <td>Emma Watson</td>\n",
       "            <td>Harry Potter and the Prisoner of Azkaban</td>\n",
       "        </tr>\n",
       "        <tr>\n",
       "            <td>Emma Watson</td>\n",
       "            <td>Harry Potter and the Goblet of Fire</td>\n",
       "        </tr>\n",
       "        <tr>\n",
       "            <td>Emma Watson</td>\n",
       "            <td>Harry Potter and the Order of the Phoenix</td>\n",
       "        </tr>\n",
       "        <tr>\n",
       "            <td>Emma Watson</td>\n",
       "            <td>Harry Potter and the Half-Blood Prince</td>\n",
       "        </tr>\n",
       "        <tr>\n",
       "            <td>Emma Watson</td>\n",
       "            <td>Harry Potter and the Deathly Hallows – Part 1</td>\n",
       "        </tr>\n",
       "        <tr>\n",
       "            <td>Emma Watson</td>\n",
       "            <td>Harry Potter and the Deathly Hallows – Part 2</td>\n",
       "        </tr>\n",
       "        <tr>\n",
       "            <td>Jamie Foxx</td>\n",
       "            <td>Ray</td>\n",
       "        </tr>\n",
       "        <tr>\n",
       "            <td>Jamie Foxx</td>\n",
       "            <td>The Kingdom</td>\n",
       "        </tr>\n",
       "        <tr>\n",
       "            <td>Jamie Foxx</td>\n",
       "            <td>Django Unchained</td>\n",
       "        </tr>\n",
       "        <tr>\n",
       "            <td>Jamie Foxx</td>\n",
       "            <td>White House Down</td>\n",
       "        </tr>\n",
       "        <tr>\n",
       "            <td>Nicolas Cage</td>\n",
       "            <td>World Trade Center</td>\n",
       "        </tr>\n",
       "        <tr>\n",
       "            <td>Nicolas Cage</td>\n",
       "            <td>Ghost Rider: Spirit of Vengeance</td>\n",
       "        </tr>\n",
       "        <tr>\n",
       "            <td>Nicolas Cage</td>\n",
       "            <td>The Frozen Ground</td>\n",
       "        </tr>\n",
       "        <tr>\n",
       "            <td>Nicolas Cage</td>\n",
       "            <td>Astro Boy</td>\n",
       "        </tr>\n",
       "        <tr>\n",
       "            <td>Rupert Grint</td>\n",
       "            <td>Harry Potter and the Philosopher&#x27;s Stone</td>\n",
       "        </tr>\n",
       "        <tr>\n",
       "            <td>Rupert Grint</td>\n",
       "            <td>Harry Potter and the Chamber of Secrets</td>\n",
       "        </tr>\n",
       "        <tr>\n",
       "            <td>Rupert Grint</td>\n",
       "            <td>Harry Potter and the Prisoner of Azkaban</td>\n",
       "        </tr>\n",
       "        <tr>\n",
       "            <td>Rupert Grint</td>\n",
       "            <td>Harry Potter and the Goblet of Fire</td>\n",
       "        </tr>\n",
       "        <tr>\n",
       "            <td>Rupert Grint</td>\n",
       "            <td>Harry Potter and the Order of the Phoenix</td>\n",
       "        </tr>\n",
       "        <tr>\n",
       "            <td>Rupert Grint</td>\n",
       "            <td>Harry Potter and the Half-Blood Prince</td>\n",
       "        </tr>\n",
       "        <tr>\n",
       "            <td>Rupert Grint</td>\n",
       "            <td>Harry Potter and the Deathly Hallows – Part 1</td>\n",
       "        </tr>\n",
       "        <tr>\n",
       "            <td>Rupert Grint</td>\n",
       "            <td>Harry Potter and the Deathly Hallows – Part 2</td>\n",
       "        </tr>\n",
       "    </tbody>\n",
       "</table>"
      ],
      "text/plain": [
       "[('Daniel Radcliffe', \"Harry Potter and the Philosopher's Stone\"),\n",
       " ('Daniel Radcliffe', 'Harry Potter and the Chamber of Secrets'),\n",
       " ('Daniel Radcliffe', 'Harry Potter and the Prisoner of Azkaban'),\n",
       " ('Daniel Radcliffe', 'Harry Potter and the Goblet of Fire'),\n",
       " ('Daniel Radcliffe', 'Harry Potter and the Order of the Phoenix'),\n",
       " ('Daniel Radcliffe', 'Harry Potter and the Half-Blood Prince'),\n",
       " ('Daniel Radcliffe', 'Harry Potter and the Deathly Hallows – Part 1'),\n",
       " ('Daniel Radcliffe', 'Harry Potter and the Deathly Hallows – Part 2'),\n",
       " ('Emma Watson', \"Harry Potter and the Philosopher's Stone\"),\n",
       " ('Emma Watson', 'Harry Potter and the Chamber of Secrets'),\n",
       " ('Emma Watson', 'Harry Potter and the Prisoner of Azkaban'),\n",
       " ('Emma Watson', 'Harry Potter and the Goblet of Fire'),\n",
       " ('Emma Watson', 'Harry Potter and the Order of the Phoenix'),\n",
       " ('Emma Watson', 'Harry Potter and the Half-Blood Prince'),\n",
       " ('Emma Watson', 'Harry Potter and the Deathly Hallows – Part 1'),\n",
       " ('Emma Watson', 'Harry Potter and the Deathly Hallows – Part 2'),\n",
       " ('Jamie Foxx', 'Ray'),\n",
       " ('Jamie Foxx', 'The Kingdom'),\n",
       " ('Jamie Foxx', 'Django Unchained'),\n",
       " ('Jamie Foxx', 'White House Down'),\n",
       " ('Nicolas Cage', 'World Trade Center'),\n",
       " ('Nicolas Cage', 'Ghost Rider: Spirit of Vengeance'),\n",
       " ('Nicolas Cage', 'The Frozen Ground'),\n",
       " ('Nicolas Cage', 'Astro Boy'),\n",
       " ('Rupert Grint', \"Harry Potter and the Philosopher's Stone\"),\n",
       " ('Rupert Grint', 'Harry Potter and the Chamber of Secrets'),\n",
       " ('Rupert Grint', 'Harry Potter and the Prisoner of Azkaban'),\n",
       " ('Rupert Grint', 'Harry Potter and the Goblet of Fire'),\n",
       " ('Rupert Grint', 'Harry Potter and the Order of the Phoenix'),\n",
       " ('Rupert Grint', 'Harry Potter and the Half-Blood Prince'),\n",
       " ('Rupert Grint', 'Harry Potter and the Deathly Hallows – Part 1'),\n",
       " ('Rupert Grint', 'Harry Potter and the Deathly Hallows – Part 2')]"
      ]
     },
     "execution_count": 56,
     "metadata": {},
     "output_type": "execute_result"
    }
   ],
   "source": [
    "%%sql\n",
    "WITH screenplays AS (\n",
    "    SELECT asn.actor_id, name, asn.movie_id, title\n",
    "    FROM actsin AS asn\n",
    "    LEFT JOIN movies AS m\n",
    "    ON asn.movie_id = m.movie_id\n",
    "    LEFT JOIN actors AS a\n",
    "    ON asn.actor_id = a.actor_id\n",
    ")\n",
    "\n",
    "SELECT name AS actor_name, title AS movie_title\n",
    "FROM screenplays\n",
    "WHERE name IN ('Rupert Grint', 'Emma Watson', 'Daniel Radcliffe', 'Nicolas Cage', 'Jamie Foxx');"
   ]
  },
  {
   "cell_type": "code",
   "execution_count": 17,
   "metadata": {},
   "outputs": [
    {
     "name": "stdout",
     "output_type": "stream",
     "text": [
      " * sqlite:///MovieNow.db\n",
      "Done.\n"
     ]
    },
    {
     "data": {
      "text/html": [
       "<table>\n",
       "    <thead>\n",
       "        <tr>\n",
       "            <th>title</th>\n",
       "            <th>rank</th>\n",
       "        </tr>\n",
       "    </thead>\n",
       "    <tbody>\n",
       "        <tr>\n",
       "            <td>The Kingdom</td>\n",
       "            <td>1</td>\n",
       "        </tr>\n",
       "        <tr>\n",
       "            <td>Harry Potter and the Half-Blood Prince</td>\n",
       "            <td>3</td>\n",
       "        </tr>\n",
       "        <tr>\n",
       "            <td>World Trade Center</td>\n",
       "            <td>3</td>\n",
       "        </tr>\n",
       "        <tr>\n",
       "            <td>Harry Potter and the Deathly Hallows – Part 2</td>\n",
       "            <td>7</td>\n",
       "        </tr>\n",
       "        <tr>\n",
       "            <td>Django Unchained</td>\n",
       "            <td>9</td>\n",
       "        </tr>\n",
       "        <tr>\n",
       "            <td>Harry Potter and the Prisoner of Azkaban</td>\n",
       "            <td>17</td>\n",
       "        </tr>\n",
       "        <tr>\n",
       "            <td>Ray</td>\n",
       "            <td>17</td>\n",
       "        </tr>\n",
       "        <tr>\n",
       "            <td>Harry Potter and the Deathly Hallows – Part 1</td>\n",
       "            <td>24</td>\n",
       "        </tr>\n",
       "        <tr>\n",
       "            <td>Harry Potter and the Order of the Phoenix</td>\n",
       "            <td>24</td>\n",
       "        </tr>\n",
       "        <tr>\n",
       "            <td>The Frozen Ground</td>\n",
       "            <td>33</td>\n",
       "        </tr>\n",
       "        <tr>\n",
       "            <td>Harry Potter and the Goblet of Fire</td>\n",
       "            <td>40</td>\n",
       "        </tr>\n",
       "        <tr>\n",
       "            <td>White House Down</td>\n",
       "            <td>47</td>\n",
       "        </tr>\n",
       "        <tr>\n",
       "            <td>Harry Potter and the Philosopher&#x27;s Stone</td>\n",
       "            <td>47</td>\n",
       "        </tr>\n",
       "        <tr>\n",
       "            <td>Ghost Rider: Spirit of Vengeance</td>\n",
       "            <td>59</td>\n",
       "        </tr>\n",
       "        <tr>\n",
       "            <td>Astro Boy</td>\n",
       "            <td>59</td>\n",
       "        </tr>\n",
       "        <tr>\n",
       "            <td>Harry Potter and the Chamber of Secrets</td>\n",
       "            <td>59</td>\n",
       "        </tr>\n",
       "    </tbody>\n",
       "</table>"
      ],
      "text/plain": [
       "[('The Kingdom', 1),\n",
       " ('Harry Potter and the Half-Blood Prince', 3),\n",
       " ('World Trade Center', 3),\n",
       " ('Harry Potter and the Deathly Hallows – Part 2', 7),\n",
       " ('Django Unchained', 9),\n",
       " ('Harry Potter and the Prisoner of Azkaban', 17),\n",
       " ('Ray', 17),\n",
       " ('Harry Potter and the Deathly Hallows – Part 1', 24),\n",
       " ('Harry Potter and the Order of the Phoenix', 24),\n",
       " ('The Frozen Ground', 33),\n",
       " ('Harry Potter and the Goblet of Fire', 40),\n",
       " ('White House Down', 47),\n",
       " (\"Harry Potter and the Philosopher's Stone\", 47),\n",
       " ('Ghost Rider: Spirit of Vengeance', 59),\n",
       " ('Astro Boy', 59),\n",
       " ('Harry Potter and the Chamber of Secrets', 59)]"
      ]
     },
     "execution_count": 17,
     "metadata": {},
     "output_type": "execute_result"
    }
   ],
   "source": [
    "%%sql\n",
    "WITH movie_rank AS (\n",
    "    SELECT\n",
    "        title, m.movie_id,\n",
    "        COUNT(renting_id) AS n_rented,\n",
    "        RANK() OVER(ORDER BY COUNT(renting_id) DESC) AS rank\n",
    "    FROM movies AS m\n",
    "    RIGHT JOIN renting AS r\n",
    "    ON m.movie_id = r.movie_id\n",
    "    GROUP BY r.movie_id\n",
    ")\n",
    "\n",
    "SELECT title, rank\n",
    "FROM movie_rank\n",
    "WHERE movie_id IN (\n",
    "    SELECT movie_id\n",
    "    FROM actsin AS asn\n",
    "    LEFT JOIN movies AS m\n",
    "    USING(movie_id)\n",
    "    LEFT JOIN actors AS a\n",
    "    USING(actor_id)\n",
    "    WHERE name IN ('Rupert Grint', 'Emma Watson', 'Daniel Radcliffe', 'Nicolas Cage', 'Jamie Foxx')\n",
    ")"
   ]
  }
 ],
 "metadata": {
  "kernelspec": {
   "display_name": "Python 3",
   "language": "python",
   "name": "python3"
  },
  "language_info": {
   "codemirror_mode": {
    "name": "ipython",
    "version": 3
   },
   "file_extension": ".py",
   "mimetype": "text/x-python",
   "name": "python",
   "nbconvert_exporter": "python",
   "pygments_lexer": "ipython3",
   "version": "3.11.5"
  }
 },
 "nbformat": 4,
 "nbformat_minor": 2
}
